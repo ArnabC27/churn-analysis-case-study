{
 "cells": [
  {
   "cell_type": "markdown",
   "metadata": {},
   "source": [
    "## Data Loading"
   ]
  },
  {
   "cell_type": "code",
   "execution_count": 1,
   "metadata": {},
   "outputs": [],
   "source": [
    "import numpy as np\n",
    "import pandas as pd\n",
    "churn = pd.read_csv('dataset.csv', sep=',')"
   ]
  },
  {
   "cell_type": "markdown",
   "metadata": {},
   "source": [
    "## Data Analysis"
   ]
  },
  {
   "cell_type": "code",
   "execution_count": 2,
   "metadata": {},
   "outputs": [
    {
     "name": "stdout",
     "output_type": "stream",
     "text": [
      "(3333, 21)\n"
     ]
    }
   ],
   "source": [
    "data_size = churn.shape\n",
    "print(data_size)"
   ]
  },
  {
   "cell_type": "code",
   "execution_count": 3,
   "metadata": {},
   "outputs": [
    {
     "name": "stdout",
     "output_type": "stream",
     "text": [
      "['state', 'account length', 'area code', 'phone number', 'international plan', 'voice mail plan', 'number vmail messages', 'total day minutes', 'total day calls', 'total day charge', 'total eve minutes', 'total eve calls', 'total eve charge', 'total night minutes', 'total night calls', 'total night charge', 'total intl minutes', 'total intl calls', 'total intl charge', 'customer service calls', 'churn']\n"
     ]
    }
   ],
   "source": [
    "churn_col_names = list(churn.columns)\n",
    "print(churn_col_names)"
   ]
  },
  {
   "cell_type": "code",
   "execution_count": 4,
   "metadata": {},
   "outputs": [
    {
     "name": "stdout",
     "output_type": "stream",
     "text": [
      "       account length    area code  number vmail messages  total day minutes  \\\n",
      "count     3333.000000  3333.000000            3333.000000        3333.000000   \n",
      "mean       101.064806   437.182418               8.099010         179.775098   \n",
      "std         39.822106    42.371290              13.688365          54.467389   \n",
      "min          1.000000   408.000000               0.000000           0.000000   \n",
      "25%         74.000000   408.000000               0.000000         143.700000   \n",
      "50%        101.000000   415.000000               0.000000         179.400000   \n",
      "75%        127.000000   510.000000              20.000000         216.400000   \n",
      "max        243.000000   510.000000              51.000000         350.800000   \n",
      "\n",
      "       total day calls  total day charge  total eve minutes  total eve calls  \\\n",
      "count      3333.000000       3333.000000        3333.000000      3333.000000   \n",
      "mean        100.435644         30.562307         200.980348       100.114311   \n",
      "std          20.069084          9.259435          50.713844        19.922625   \n",
      "min           0.000000          0.000000           0.000000         0.000000   \n",
      "25%          87.000000         24.430000         166.600000        87.000000   \n",
      "50%         101.000000         30.500000         201.400000       100.000000   \n",
      "75%         114.000000         36.790000         235.300000       114.000000   \n",
      "max         165.000000         59.640000         363.700000       170.000000   \n",
      "\n",
      "       total eve charge  total night minutes  total night calls  \\\n",
      "count       3333.000000          3333.000000        3333.000000   \n",
      "mean          17.083540           200.872037         100.107711   \n",
      "std            4.310668            50.573847          19.568609   \n",
      "min            0.000000            23.200000          33.000000   \n",
      "25%           14.160000           167.000000          87.000000   \n",
      "50%           17.120000           201.200000         100.000000   \n",
      "75%           20.000000           235.300000         113.000000   \n",
      "max           30.910000           395.000000         175.000000   \n",
      "\n",
      "       total night charge  total intl minutes  total intl calls  \\\n",
      "count         3333.000000         3333.000000       3333.000000   \n",
      "mean             9.039325           10.237294          4.479448   \n",
      "std              2.275873            2.791840          2.461214   \n",
      "min              1.040000            0.000000          0.000000   \n",
      "25%              7.520000            8.500000          3.000000   \n",
      "50%              9.050000           10.300000          4.000000   \n",
      "75%             10.590000           12.100000          6.000000   \n",
      "max             17.770000           20.000000         20.000000   \n",
      "\n",
      "       total intl charge  customer service calls  \n",
      "count        3333.000000             3333.000000  \n",
      "mean            2.764581                1.562856  \n",
      "std             0.753773                1.315491  \n",
      "min             0.000000                0.000000  \n",
      "25%             2.300000                1.000000  \n",
      "50%             2.780000                1.000000  \n",
      "75%             3.270000                2.000000  \n",
      "max             5.400000                9.000000  \n"
     ]
    }
   ],
   "source": [
    "print(churn.describe())"
   ]
  },
  {
   "cell_type": "code",
   "execution_count": 5,
   "metadata": {},
   "outputs": [
    {
     "name": "stdout",
     "output_type": "stream",
     "text": [
      "  state  account length  area code phone number international plan  \\\n",
      "0    KS             128        415     382-4657                 no   \n",
      "1    OH             107        415     371-7191                 no   \n",
      "2    NJ             137        415     358-1921                 no   \n",
      "3    OH              84        408     375-9999                yes   \n",
      "4    OK              75        415     330-6626                yes   \n",
      "\n",
      "  voice mail plan  number vmail messages  total day minutes  total day calls  \\\n",
      "0             yes                     25              265.1              110   \n",
      "1             yes                     26              161.6              123   \n",
      "2              no                      0              243.4              114   \n",
      "3              no                      0              299.4               71   \n",
      "4              no                      0              166.7              113   \n",
      "\n",
      "   total day charge  ...  total eve calls  total eve charge  \\\n",
      "0             45.07  ...               99             16.78   \n",
      "1             27.47  ...              103             16.62   \n",
      "2             41.38  ...              110             10.30   \n",
      "3             50.90  ...               88              5.26   \n",
      "4             28.34  ...              122             12.61   \n",
      "\n",
      "   total night minutes  total night calls  total night charge  \\\n",
      "0                244.7                 91               11.01   \n",
      "1                254.4                103               11.45   \n",
      "2                162.6                104                7.32   \n",
      "3                196.9                 89                8.86   \n",
      "4                186.9                121                8.41   \n",
      "\n",
      "   total intl minutes  total intl calls  total intl charge  \\\n",
      "0                10.0                 3               2.70   \n",
      "1                13.7                 3               3.70   \n",
      "2                12.2                 5               3.29   \n",
      "3                 6.6                 7               1.78   \n",
      "4                10.1                 3               2.73   \n",
      "\n",
      "   customer service calls  churn  \n",
      "0                       1  False  \n",
      "1                       1  False  \n",
      "2                       0  False  \n",
      "3                       2  False  \n",
      "4                       3  False  \n",
      "\n",
      "[5 rows x 21 columns]\n"
     ]
    }
   ],
   "source": [
    "print(churn.head())"
   ]
  },
  {
   "cell_type": "markdown",
   "metadata": {},
   "source": [
    "## Target Identification"
   ]
  },
  {
   "cell_type": "code",
   "execution_count": 6,
   "metadata": {},
   "outputs": [
    {
     "name": "stdout",
     "output_type": "stream",
     "text": [
      "[False  True]\n"
     ]
    }
   ],
   "source": [
    "churn_target = churn['churn']\n",
    "print(churn_target.unique())"
   ]
  },
  {
   "cell_type": "markdown",
   "metadata": {},
   "source": [
    "## Feature Identification"
   ]
  },
  {
   "cell_type": "code",
   "execution_count": 9,
   "metadata": {},
   "outputs": [
    {
     "name": "stdout",
     "output_type": "stream",
     "text": [
      "  state  account length  area code international plan voice mail plan  \\\n",
      "0    KS             128        415                 no             yes   \n",
      "1    OH             107        415                 no             yes   \n",
      "2    NJ             137        415                 no              no   \n",
      "3    OH              84        408                yes              no   \n",
      "4    OK              75        415                yes              no   \n",
      "\n",
      "   number vmail messages  total day minutes  total day calls  \\\n",
      "0                     25              265.1              110   \n",
      "1                     26              161.6              123   \n",
      "2                      0              243.4              114   \n",
      "3                      0              299.4               71   \n",
      "4                      0              166.7              113   \n",
      "\n",
      "   total day charge  total eve minutes  total eve calls  total eve charge  \\\n",
      "0             45.07              197.4               99             16.78   \n",
      "1             27.47              195.5              103             16.62   \n",
      "2             41.38              121.2              110             10.30   \n",
      "3             50.90               61.9               88              5.26   \n",
      "4             28.34              148.3              122             12.61   \n",
      "\n",
      "   total night minutes  total night calls  total night charge  \\\n",
      "0                244.7                 91               11.01   \n",
      "1                254.4                103               11.45   \n",
      "2                162.6                104                7.32   \n",
      "3                196.9                 89                8.86   \n",
      "4                186.9                121                8.41   \n",
      "\n",
      "   total intl minutes  total intl calls  total intl charge  \\\n",
      "0                10.0                 3               2.70   \n",
      "1                13.7                 3               3.70   \n",
      "2                12.2                 5               3.29   \n",
      "3                 6.6                 7               1.78   \n",
      "4                10.1                 3               2.73   \n",
      "\n",
      "   customer service calls  \n",
      "0                       1  \n",
      "1                       1  \n",
      "2                       0  \n",
      "3                       2  \n",
      "4                       3  \n"
     ]
    }
   ],
   "source": [
    "#Phone number is unique and might not influence prediction\n",
    "#churn is the target variable and should be dropped\n",
    "\n",
    "cols_to_drop = ['phone number', 'churn']\n",
    "churn_feature = churn.drop(cols_to_drop, axis=1)\n",
    "print(churn_feature.head())"
   ]
  },
  {
   "cell_type": "markdown",
   "metadata": {},
   "source": [
    "## Data Preprocessing"
   ]
  },
  {
   "cell_type": "code",
   "execution_count": 10,
   "metadata": {},
   "outputs": [
    {
     "name": "stdout",
     "output_type": "stream",
     "text": [
      "  state phone number international plan voice mail plan\n",
      "0    KS     382-4657                 no             yes\n",
      "1    OH     371-7191                 no             yes\n"
     ]
    }
   ],
   "source": [
    "#Categorical Data\n",
    "\n",
    "churn_categorical = churn.select_dtypes(include=[object])\n",
    "print(churn_categorical.head(2))"
   ]
  },
  {
   "cell_type": "code",
   "execution_count": 11,
   "metadata": {},
   "outputs": [
    {
     "name": "stdout",
     "output_type": "stream",
     "text": [
      "  state  account length  area code  international plan  voice mail plan  \\\n",
      "0    KS             128        415               False             True   \n",
      "1    OH             107        415               False             True   \n",
      "\n",
      "   number vmail messages  total day minutes  total day calls  \\\n",
      "0                     25              265.1              110   \n",
      "1                     26              161.6              123   \n",
      "\n",
      "   total day charge  total eve minutes  total eve calls  total eve charge  \\\n",
      "0             45.07              197.4               99             16.78   \n",
      "1             27.47              195.5              103             16.62   \n",
      "\n",
      "   total night minutes  total night calls  total night charge  \\\n",
      "0                244.7                 91               11.01   \n",
      "1                254.4                103               11.45   \n",
      "\n",
      "   total intl minutes  total intl calls  total intl charge  \\\n",
      "0                10.0                 3                2.7   \n",
      "1                13.7                 3                3.7   \n",
      "\n",
      "   customer service calls  \n",
      "0                       1  \n",
      "1                       1  \n"
     ]
    }
   ],
   "source": [
    "#Changing yes/no values to boolean\n",
    "\n",
    "yes_no_cols = ['international plan', 'voice mail plan']\n",
    "churn_feature[yes_no_cols] = churn_feature[yes_no_cols] == 'yes'\n",
    "print(churn_feature.head(2))"
   ]
  },
  {
   "cell_type": "code",
   "execution_count": 12,
   "metadata": {},
   "outputs": [
    {
     "name": "stdout",
     "output_type": "stream",
     "text": [
      "  state  account length  area code  international plan  voice mail plan  \\\n",
      "0    KS             128          1               False             True   \n",
      "1    OH             107          1               False             True   \n",
      "\n",
      "   number vmail messages  total day minutes  total day calls  \\\n",
      "0                     25              265.1              110   \n",
      "1                     26              161.6              123   \n",
      "\n",
      "   total day charge  total eve minutes  total eve calls  total eve charge  \\\n",
      "0             45.07              197.4               99             16.78   \n",
      "1             27.47              195.5              103             16.62   \n",
      "\n",
      "   total night minutes  total night calls  total night charge  \\\n",
      "0                244.7                 91               11.01   \n",
      "1                254.4                103               11.45   \n",
      "\n",
      "   total intl minutes  total intl calls  total intl charge  \\\n",
      "0                10.0                 3                2.7   \n",
      "1                13.7                 3                3.7   \n",
      "\n",
      "   customer service calls  \n",
      "0                       1  \n",
      "1                       1  \n"
     ]
    }
   ],
   "source": [
    "#Label Encoding\n",
    "\n",
    "from sklearn import preprocessing\n",
    "label_encoder = preprocessing.LabelEncoder()\n",
    "churn_feature['area code'] = label_encoder.fit_transform(churn_feature['area code'])\n",
    "print(churn_feature.head(2))"
   ]
  },
  {
   "cell_type": "code",
   "execution_count": 22,
   "metadata": {},
   "outputs": [
    {
     "name": "stdout",
     "output_type": "stream",
     "text": [
      "Churn data size before One Hot Encoding : (3333, 19)\n",
      "No. of unique states : 51\n",
      "Churn data size after One Hot Encoding : (3333, 69)\n"
     ]
    }
   ],
   "source": [
    "#One Hot Encoding\n",
    "\n",
    "print('Churn data size before One Hot Encoding :', churn_feature.shape)\n",
    "print('No. of unique states :', len(churn_feature['state'].unique()))\n",
    "\n",
    "#Give the feature and columns to One Hot Encode in 'columns' and column rename prefix in 'prefix'\n",
    "churn_dumm = pd.get_dummies(churn_feature, columns=['state'], prefix=['state'])\n",
    "print('Churn data size after One Hot Encoding :', churn_dumm.shape)\n",
    "\n",
    "import numpy as np  #Converting to numpy matrix\n",
    "churn_matrix = churn_dumm.values.astype(np.float64)\n"
   ]
  },
  {
   "cell_type": "code",
   "execution_count": 23,
   "metadata": {},
   "outputs": [],
   "source": [
    "#Imputing Missing values\n",
    "\n",
    "from sklearn.impute import SimpleImputer\n",
    "#Missing values replaced by mean\n",
    "imp = SimpleImputer(missing_values=np.nan, strategy='mean', fill_value=None, copy=True)\n",
    "#Fit to data, then transform it\n",
    "churn_matrix = imp.fit_transform(churn_matrix)"
   ]
  },
  {
   "cell_type": "code",
   "execution_count": null,
   "metadata": {},
   "outputs": [],
   "source": [
    "#Standardization\n",
    "\n",
    "from sklearn.preprocessing import StandardScaler\n",
    "#Standardi"
   ]
  }
 ],
 "metadata": {
  "kernelspec": {
   "display_name": "Python 3",
   "language": "python",
   "name": "python3"
  },
  "language_info": {
   "codemirror_mode": {
    "name": "ipython",
    "version": 3
   },
   "file_extension": ".py",
   "mimetype": "text/x-python",
   "name": "python",
   "nbconvert_exporter": "python",
   "pygments_lexer": "ipython3",
   "version": "3.12.7"
  }
 },
 "nbformat": 4,
 "nbformat_minor": 2
}
